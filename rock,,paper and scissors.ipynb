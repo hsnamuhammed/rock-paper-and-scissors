{
 "cells": [
  {
   "cell_type": "markdown",
   "id": "5d7ea056",
   "metadata": {},
   "source": [
    "Rock_Paper assignment"
   ]
  },
  {
   "cell_type": "code",
   "execution_count": 12,
   "id": "a5160212",
   "metadata": {
    "scrolled": true
   },
   "outputs": [
    {
     "name": "stdout",
     "output_type": "stream",
     "text": [
      "Enter your name: hasnaa\n",
      "Enter your choice: rock\n",
      "Computer choice is: paper\n",
      "Computer won!\n",
      "Do you want to play again? yes\n",
      "Enter your choice: paper\n",
      "Computer choice is: scissors\n",
      "Computer won!\n",
      "Do you want to play again? yes\n",
      "Enter your choice: scissors\n",
      "Computer choice is: paper\n",
      "hasnaa won!\n",
      "Do you want to play again? yes\n",
      "Enter your choice: scissors\n",
      "Computer choice is: paper\n",
      "hasnaa won!\n",
      "Do you want to play again? yes\n",
      "Enter your choice: rock\n",
      "Computer choice is: paper\n",
      "Computer won!\n",
      "Do you want to play again? no\n",
      "Thank you!\n"
     ]
    }
   ],
   "source": [
    "import numpy as np     #library\n",
    "import random\n",
    "user_name=input('Enter your name: ')       #user name\n",
    "def play_again():           #function to check if user wants to play again or not\n",
    "    start_game()            #recursion function\n",
    "\n",
    "def start_game():          #the function of the game\n",
    "    user_choice=input('Enter your choice: ')          #user choice\n",
    "    def computer(): #computer choose randomly\n",
    "        def random1():\n",
    "            a=random.randrange(0,3)\n",
    "            return a\n",
    "        if random1()==0 and user_choice !='paper':\n",
    "           computer_choice='paper'\n",
    "        elif random1()==1 and user_choice !='rock':\n",
    "           computer_choice='rock'\n",
    "        elif  random1()==2 and user_choice !='scissors':\n",
    "           computer_choice='scissors'\n",
    "        else:\n",
    "            computer_choice=computer()\n",
    "        return computer_choice\n",
    "    computer_choice=computer()\n",
    "    print('Computer choice is: '+ computer_choice)\n",
    "    if computer_choice=='paper' and user_choice=='rock':\n",
    "        print('Computer won!')\n",
    "    elif computer_choice=='paper' and user_choice=='scissors':\n",
    "        print(user_name +' won!')\n",
    "    elif computer_choice=='rock' and user_choice=='scissors':\n",
    "        print('Computer won!')\n",
    "    elif computer_choice=='scissors' and user_choice=='paper':\n",
    "        print('Computer won!')\n",
    "    elif computer_choice=='rock' and user_choice=='paper':\n",
    "        print(user_name +' won!')\n",
    "    else :\n",
    "        print(user_name +' won!')\n",
    "    play_agai=input('Do you want to play again? ' )\n",
    "    if play_agai=='yes':\n",
    "        play_again()\n",
    "    elif play_agai=='no':\n",
    "        print('Thank you!')\n",
    "    else:\n",
    "        print('Undefined word! ')\n",
    "start_game()\n",
    "\n",
    "\n"
   ]
  }
 ],
 "metadata": {
  "kernelspec": {
   "display_name": "Python 3 (ipykernel)",
   "language": "python",
   "name": "python3"
  },
  "language_info": {
   "codemirror_mode": {
    "name": "ipython",
    "version": 3
   },
   "file_extension": ".py",
   "mimetype": "text/x-python",
   "name": "python",
   "nbconvert_exporter": "python",
   "pygments_lexer": "ipython3",
   "version": "3.9.13"
  }
 },
 "nbformat": 4,
 "nbformat_minor": 5
}
